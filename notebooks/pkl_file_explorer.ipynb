{
 "cells": [
  {
   "cell_type": "markdown",
   "id": "5a64de6c-0982-4beb-8bce-bbc54c2d5989",
   "metadata": {},
   "source": [
    "This notebook is for figuring out what is inside the pkl file so as to understand the DataLoader (self.train_data_loader)"
   ]
  },
  {
   "cell_type": "code",
   "execution_count": 1,
   "id": "8ab137fe-7096-441f-b5a6-758b20423d13",
   "metadata": {},
   "outputs": [
    {
     "name": "stdout",
     "output_type": "stream",
     "text": [
      "/home/kalyanav/MS_thesis/MID\n"
     ]
    }
   ],
   "source": [
    "%cd \"/home/kalyanav/MS_thesis/MID\""
   ]
  },
  {
   "cell_type": "code",
   "execution_count": 2,
   "id": "6c4f3996-a7b8-40e5-9083-e0c09b6dc210",
   "metadata": {},
   "outputs": [
    {
     "name": "stderr",
     "output_type": "stream",
     "text": [
      "/home/kalyanav/anaconda3/envs/mid/lib/python3.11/site-packages/tqdm/auto.py:21: TqdmWarning: IProgress not found. Please update jupyter and ipywidgets. See https://ipywidgets.readthedocs.io/en/stable/user_install.html\n",
      "  from .autonotebook import tqdm as notebook_tqdm\n"
     ]
    }
   ],
   "source": [
    "import numpy as np\n",
    "import sys\n",
    "import os\n",
    "import numpy as np\n",
    "import pandas as pd\n",
    "import dill\n",
    "import pickle\n",
    "import itertools\n",
    "import pickle\n",
    "from environment import Environment, Scene, Node, derivative_of\n",
    "import os\n",
    "import argparse\n",
    "import torch\n",
    "import dill\n",
    "import pdb\n",
    "import numpy as np\n",
    "import os.path as osp\n",
    "import logging\n",
    "import time\n",
    "from torch import nn, optim, utils\n",
    "import torch.nn as nn\n",
    "from tensorboardX import SummaryWriter\n",
    "from tqdm.auto import tqdm\n",
    "import pickle\n",
    "\n",
    "from dataset import EnvironmentDataset, collate, get_timesteps_data, restore\n",
    "from models.autoencoder import AutoEncoder\n",
    "from models.trajectron import Trajectron\n",
    "from models.trajectron_3d import Trajectron3D\n",
    "from utils.model_registrar import ModelRegistrar\n",
    "from utils.trajectron_hypers import get_traj_hypers, get_traj_hypers_3D\n",
    "import evaluation"
   ]
  },
  {
   "cell_type": "code",
   "execution_count": 3,
   "id": "7ac69699-b8d5-48fe-955b-81e26dad3b76",
   "metadata": {},
   "outputs": [],
   "source": [
    "PICKLE_FILE_PATH = '/home/kalyanav/MS_thesis/MID/processed_data/collide_train.pkl'"
   ]
  },
  {
   "cell_type": "code",
   "execution_count": 4,
   "id": "c5562ad0-1f01-4bb1-8807-de9a834431fa",
   "metadata": {},
   "outputs": [
    {
     "ename": "ModuleNotFoundError",
     "evalue": "No module named '__builtin__'",
     "output_type": "error",
     "traceback": [
      "\u001b[0;31m---------------------------------------------------------------------------\u001b[0m",
      "\u001b[0;31mModuleNotFoundError\u001b[0m                       Traceback (most recent call last)",
      "Cell \u001b[0;32mIn[4], line 5\u001b[0m\n\u001b[1;32m      3\u001b[0m \u001b[38;5;28;01mwhile\u001b[39;00m \u001b[38;5;28;01mTrue\u001b[39;00m:\n\u001b[1;32m      4\u001b[0m     \u001b[38;5;28;01mtry\u001b[39;00m:\n\u001b[0;32m----> 5\u001b[0m         objects\u001b[38;5;241m.\u001b[39mappend(\u001b[43mpickle\u001b[49m\u001b[38;5;241;43m.\u001b[39;49m\u001b[43mload\u001b[49m\u001b[43m(\u001b[49m\u001b[43mopenfile\u001b[49m\u001b[43m)\u001b[49m)\n\u001b[1;32m      6\u001b[0m     \u001b[38;5;28;01mexcept\u001b[39;00m \u001b[38;5;167;01mEOFError\u001b[39;00m:\n\u001b[1;32m      7\u001b[0m         \u001b[38;5;28;01mbreak\u001b[39;00m\n",
      "\u001b[0;31mModuleNotFoundError\u001b[0m: No module named '__builtin__'"
     ]
    }
   ],
   "source": [
    "objects = []\n",
    "with (open(PICKLE_FILE_PATH, \"rb\")) as openfile:\n",
    "    while True:\n",
    "        try:\n",
    "            objects.append(pickle.load(openfile))\n",
    "        except EOFError:\n",
    "            break"
   ]
  },
  {
   "cell_type": "code",
   "execution_count": null,
   "id": "e13bacc1-f9cf-4c8c-8739-b1d951ea539f",
   "metadata": {},
   "outputs": [],
   "source": []
  }
 ],
 "metadata": {
  "kernelspec": {
   "display_name": "Python 3 (ipykernel)",
   "language": "python",
   "name": "python3"
  },
  "language_info": {
   "codemirror_mode": {
    "name": "ipython",
    "version": 3
   },
   "file_extension": ".py",
   "mimetype": "text/x-python",
   "name": "python",
   "nbconvert_exporter": "python",
   "pygments_lexer": "ipython3",
   "version": "3.11.4"
  }
 },
 "nbformat": 4,
 "nbformat_minor": 5
}
